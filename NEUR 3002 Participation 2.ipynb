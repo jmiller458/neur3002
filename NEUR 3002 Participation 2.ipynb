{
 "cells": [
  {
   "cell_type": "markdown",
   "metadata": {},
   "source": [
    "\n",
    "---\n",
    "\n",
    "### In-Class Participation Activity #2 \n",
    "\n",
    "**Names:**\n",
    "\n",
    "- Erica Drummond\n",
    "- Madison Meyers\n",
    "- Jake Miller\n",
    "- Pranati Yadlapalli  \n",
    "\n",
    "*NEUR 3002 - 1/18/2024*\n",
    "\n",
    "---"
   ]
  },
  {
   "cell_type": "markdown",
   "metadata": {},
   "source": [
    "#### Types of Neural Coding\n",
    "\n",
    "- **Temporal Code:** the relative intervals between spikes or groups of spikes differ, providing information\n",
    "- **Rate Code:** the total firing rate of neurons differs, providing information\n",
    "- **Latency Code:** the delay in the onset or start of firing differs, providing information\n",
    "- **Synchronous Code:** what neurons fire simultaneously or with each other differs, providing information\n",
    "- **Tuning Curves:** shows a functional relationship between a stimulus and the response \n",
    "- **Population Code:** significant differences in overall activity of a large group of neurons\n",
    "\n",
    "--- \n"
   ]
  },
  {
   "cell_type": "markdown",
   "metadata": {},
   "source": [
    "#### Compare and Contrast\n",
    "\n",
    "Temporal coding focuses primarily on the overall timing of spikes while rate coding focuses more on frequency and relative timing between spikes. Latency coding is also temporal, but just focuses on the first time delay in spiking. Synchronous depends more on comparison to another neuron, rather than just itself at a different point in time or with a different pattern. Population code takes into account many neurons rather than just one or a couple pairs to show total distributed activity. Finally, tuning curves are specific to certain stimuli and thus can be more directly useful in understanding the actual effects of stimuli on neural coding. "
   ]
  }
 ],
 "metadata": {
  "language_info": {
   "name": "python"
  }
 },
 "nbformat": 4,
 "nbformat_minor": 2
}
